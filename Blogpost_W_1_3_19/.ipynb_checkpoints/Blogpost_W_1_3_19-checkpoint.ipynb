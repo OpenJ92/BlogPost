{
 "cells": [
  {
   "cell_type": "markdown",
   "metadata": {},
   "source": [
    "## On the Subject of Jacobi and Gauss/Seidel Itteration"
   ]
  },
  {
   "cell_type": "markdown",
   "metadata": {},
   "source": [
    "links:  \n",
    "[Jacobi Itteration](https://en.wikipedia.org/wiki/Jacobi_method)  \n",
    "[Gauss/Seidel Itteration](https://en.wikipedia.org/wiki/Gauss%E2%80%93Seidel_method)"
   ]
  },
  {
   "cell_type": "markdown",
   "metadata": {},
   "source": [
    "Define and explain the method listed above\n",
    "\n",
    "##NOTE this will only work with [Bootstrap Aggregation](https://en.wikipedia.org/wiki/Bootstrap_aggregating) ie. sample in such a way that the matrix developed subscribes to the conditions of Gauss/Seidel and Jacobi itteration"
   ]
  },
  {
   "cell_type": "markdown",
   "metadata": {},
   "source": [
    "Write code which carries out the numerical methods listed above\n",
    "\n",
    "Python Code:\n",
    "```python\n",
    "def Jacobi_Itteration(system, target):\n",
    "    pass\n",
    "def GaussSeidel_Itteration(system, target):\n",
    "    pass\n",
    "def linearLeastSquare(system, target):\n",
    "    pass\n",
    "```"
   ]
  },
  {
   "cell_type": "markdown",
   "metadata": {},
   "source": [
    "Demonstrate the speed of each method as a function of the size of our dataset in comparison to standard linear regression solution methods"
   ]
  },
  {
   "cell_type": "markdown",
   "metadata": {},
   "source": [
    "$$ P(A|B) =  \\frac{P(A \\cap B)}{P(B)} $$"
   ]
  },
  {
   "cell_type": "code",
   "execution_count": null,
   "metadata": {},
   "outputs": [],
   "source": []
  }
 ],
 "metadata": {
  "kernelspec": {
   "display_name": "Python 3",
   "language": "python",
   "name": "python3"
  },
  "language_info": {
   "codemirror_mode": {
    "name": "ipython",
    "version": 3
   },
   "file_extension": ".py",
   "mimetype": "text/x-python",
   "name": "python",
   "nbconvert_exporter": "python",
   "pygments_lexer": "ipython3",
   "version": "3.6.5"
  }
 },
 "nbformat": 4,
 "nbformat_minor": 2
}
