{
 "cells": [
  {
   "cell_type": "markdown",
   "metadata": {},
   "source": [
    "### Calculating the probability of making a Pool Shot\n",
    "\n",
    "We will first construct the abstractions for our pool balls, pockets and table as python classes."
   ]
  },
  {
   "cell_type": "markdown",
   "metadata": {},
   "source": [
    "Axioms:\n",
    "1. The direction of travel of the target ball will be negation of the local position vector\n",
    "2. Another\n",
    "\n",
    "Let us now construct the mathematical basis for this construction. The calculation of this will fall under the umbrella of conditional probability. In a very general sense the statement of our probability will be\n",
    "\n",
    "$$ P(s|t_i, c, p_j) $$\n",
    "\n",
    "Where $t_i$ is our target ball, $c$ is our cueball and $p_j$ is our pocket. More succinctly, we might consider a matrix of probabilities $ \\Theta $ where\n",
    "\n",
    "$$\\Theta_{ij} = \\begin{bmatrix}\n",
    "    P(s|t_1, c, p_1)       & P(s|t_1, c, p_2) & P(s|t_1, c, p_3) & \\dots & P(s|t_1, c, p_n) \\\\\n",
    "    P(s|t_2, c, p_1)       & P(s|t_2, c, p_2) & P(s|t_2, c, p_3) & \\dots & P(s|t_2, c, p_n) \\\\\n",
    "    \\vdots & \\vdots & \\vdots & & \\vdots\\\\\n",
    "    P(s|t_m, c, p_1)       & P(s|t_m, c, p_2) & P(s|t_m, c, p_3) & \\dots & P(s|t_m, c, p_n)\n",
    "\\end{bmatrix}$$\n",
    "\n",
    "$$ \\Theta_{ij} = P(s|t_i, c, p_j) $$\n",
    "\n",
    "the row space of afformentioned matrix would be the measures of each target ball, $t_i$ , to a single pocket $p_n$ and the column space be the measures of each pocket, $p_j$, to a single target ball $t_n$. With our abstraction of the problem constructed, let us discuss the construction of the sample space and the 'desired' space of events."
   ]
  },
  {
   "cell_type": "markdown",
   "metadata": {},
   "source": [
    "Our first goal will be to specify a sample space, $S_{ijk}$, according to the position of the target ball, $i$, the position of the cue ball, $k$, and the position of the pocket, all with assumed radii. The union of each of these spaces will compose the total sample space for the problem.\n",
    "\n",
    "$$ S = \\bigcup_{i}\\bigcup_{j}\\bigcup_{k} S_{i,j,k} $$"
   ]
  },
  {
   "cell_type": "markdown",
   "metadata": {},
   "source": [
    "events in this space will be tuples of local angle measures bounding the region of the target ball which can be struck by the cue ball in a particular $(cue, target)$ state. The 'desired space will again consist of tuples of bounding local angle measures which when struck, and abiding by axiom 1, will be sure to sink. The intercestion of these domains will define a new bounded region and will reasonably capture the numerator of our Probability measure and \n",
    "\n",
    "I really need to think about how to state such things. I feel like I'm all over the place with this. Try again later."
   ]
  },
  {
   "cell_type": "code",
   "execution_count": 1,
   "metadata": {},
   "outputs": [],
   "source": [
    "import numpy as np\n",
    "import matplotlib as mpl\n",
    "import matplotlib.pyplot as plt\n",
    "import math"
   ]
  },
  {
   "cell_type": "code",
   "execution_count": 2,
   "metadata": {},
   "outputs": [],
   "source": [
    "%matplotlib inline"
   ]
  },
  {
   "cell_type": "code",
   "execution_count": 3,
   "metadata": {},
   "outputs": [],
   "source": [
    "%matplotlib inline\n",
    "plt.rcParams['figure.figsize'] = (6,6)\n",
    "plt.rcParams['figure.dpi'] = 150"
   ]
  },
  {
   "cell_type": "code",
   "execution_count": 4,
   "metadata": {},
   "outputs": [],
   "source": [
    "from ipywidgets import interact, interactive, fixed, interact_manual\n",
    "import ipywidgets as widgets"
   ]
  },
  {
   "cell_type": "code",
   "execution_count": 5,
   "metadata": {},
   "outputs": [],
   "source": [
    "target_global = np.array([1 + np.random.random_sample(), 1 + np.random.random_sample()])\n",
    "cue_global = np.array([1.75, 1.75])\n",
    "pocket_global = np.array([.25, .25])\n",
    "\n",
    "target_radius = .1\n",
    "cue_radius = .125\n",
    "pocket_radius = .175\n",
    "\n",
    "target = [target_global, target_radius]\n",
    "cue = [cue_global, cue_radius]\n",
    "pocket = [pocket_global, pocket_radius]"
   ]
  },
  {
   "cell_type": "code",
   "execution_count": 6,
   "metadata": {},
   "outputs": [
    {
     "data": {
      "application/vnd.jupyter.widget-view+json": {
       "model_id": "8c60bb8d9f5747bc8834fa779beef6e5",
       "version_major": 2,
       "version_minor": 0
      },
      "text/plain": [
       "interactive(children=(FloatSlider(value=1.05, description='target_x', max=2.0, min=0.1, step=0.01), FloatSlide…"
      ]
     },
     "metadata": {},
     "output_type": "display_data"
    },
    {
     "data": {
      "text/plain": [
       "<function __main__.a(target_x, target_y, theta_1, theta_2)>"
      ]
     },
     "execution_count": 6,
     "metadata": {},
     "output_type": "execute_result"
    }
   ],
   "source": [
    "def a(target_x, target_y, theta_1, theta_2):\n",
    "    plt.xlim(0,2.1)\n",
    "    plt.ylim(0,2.1)\n",
    "    s = .15\n",
    "    \n",
    "    target_global = np.array([target_x, target_y])\n",
    "    \n",
    "    argument = math.acos(((target_global - cue_global)/np.linalg.norm(target_global - cue_global))@ np.array([1,0]))\n",
    "    argument = -1 * argument if (target_global - cue_global) @ np.array([0,1]) < 0 else argument\n",
    "    \n",
    "    argument_2 = math.acos(((target_global - pocket_global)/np.linalg.norm(target_global - pocket_global))@ np.array([1,0]))\n",
    "    argument_2 = -1 * argument_2 if (target_global - pocket_global) @ np.array([0,1]) < 0 else argument_2\n",
    "    \n",
    "    plt.scatter(x = target_global[0] + target_radius*np.cos(np.linspace(0, 2*np.pi)), \n",
    "                y = target_global[1] + target_radius*np.sin(np.linspace(0, 2*np.pi)),\n",
    "               color = 'blue', \n",
    "               s = s)\n",
    "    plt.scatter(x = cue_global[0] + cue_radius*np.cos(np.linspace(0, 2*np.pi)), \n",
    "                y = cue_global[1] + cue_radius*np.sin(np.linspace(0, 2*np.pi)),\n",
    "               color = 'red',\n",
    "               s = s)\n",
    "    plt.scatter(x = pocket_global[0] + pocket_radius*np.cos(np.linspace(0, 2*np.pi)), \n",
    "                y = pocket_global[1] + pocket_radius*np.sin(np.linspace(0, 2*np.pi)),\n",
    "               color = 'black',\n",
    "               s = s)\n",
    "    \n",
    "    dot_1 = np.array([target_global[0] + target_radius*np.cos(theta_1 + argument), target_global[1] + target_radius*np.sin(theta_1 + argument)])\n",
    "    dot_2 = np.array([cue_global[0] + cue_radius*np.cos(theta_1 + argument - np.pi), cue_global[1] + cue_radius*np.sin(theta_1 + argument - np.pi)])\n",
    "    line_1 = dot_1 + np.array([(dot_2 - dot_1)*i for i in np.linspace(0,1)])\n",
    "    line_1_1 = target_global - np.array([(target_global - dot_1)*i*(1/np.linalg.norm(target_global - dot_1))*target_radius for i in np.linspace(0,1)])\n",
    "    plt.scatter(line_1[:,0], line_1[:,1], s = s, color = 'red')\n",
    "    plt.scatter(line_1_1[:,0], line_1_1[:,1], s = s, color = 'red')\n",
    "    \n",
    "    dot_3 = np.array([target_global[0] + target_radius*np.cos(-1*(theta_1) + argument), target_global[1] + target_radius*np.sin(-1*(theta_1) + argument)])\n",
    "    dot_4 = np.array([cue_global[0] + cue_radius*np.cos(-1*(theta_1) + argument - np.pi), cue_global[1] + cue_radius*np.sin(-1*(theta_1) + argument - np.pi)])\n",
    "    line_2 = dot_3 + np.array([(dot_4 - dot_3)*i for i in np.linspace(0,1)])\n",
    "    line_2_1 = target_global - np.array([(target_global - dot_3)*i*(1/np.linalg.norm(target_global - dot_3))*target_radius for i in np.linspace(0,1)])\n",
    "    plt.scatter(line_2[:,0], line_2[:,1], s = s, color = 'red')\n",
    "    plt.scatter(line_2_1[:,0], line_2_1[:,1], s = s, color = 'red')\n",
    "    \n",
    "    dot_5 = np.array([pocket_global[0] + pocket_radius*np.cos((theta_2) + argument_2), pocket_global[1] + pocket_radius*np.sin((theta_2) + argument_2)])\n",
    "    dot_6 = np.array([pocket_global[0] + pocket_radius*np.cos(-1*(theta_2) + argument_2), pocket_global[1] + pocket_radius*np.sin(-1*(theta_2) + argument_2)])\n",
    "    \n",
    "    line_3_1 = dot_5 + np.array([(target_global - dot_5)*i for i in np.linspace(0,1)])\n",
    "    line_3_2 = dot_6 + np.array([(target_global - dot_6)*i for i in np.linspace(0,1)])\n",
    "    line_4_1 = target_global + np.array([(target_global - dot_5)*i*(1/np.linalg.norm(target_global - dot_5))*target_radius for i in np.linspace(0,1)])\n",
    "    line_4_2 = target_global + np.array([(target_global - dot_6)*i*(1/np.linalg.norm(target_global - dot_6))*target_radius for i in np.linspace(0,1)])\n",
    "    \n",
    "    plt.scatter(x = line_3_1[:,0], y = line_3_1[:,1], s = s, color = 'black')\n",
    "    plt.scatter(x = line_3_2[:,0], y = line_3_2[:,1], s = s, color = 'black')\n",
    "    plt.scatter(x = line_4_1[:,0], y = line_4_1[:,1], s = s, color = 'black')\n",
    "    plt.scatter(x = line_4_2[:,0], y = line_4_2[:,1], s = s, color = 'black')\n",
    "    \n",
    "    plt.title('$theta_1$: ' + str(round(theta_1, 3))+ ' ' + '$theta_2$: ' + str(round(theta_2, 3)))\n",
    "    \n",
    "interact(a, target_x = (.1, 2, .01), target_y = (.1, 2, .01), theta_1 = (-np.pi, np.pi, .01), theta_2 = (-np.pi, np.pi, .01))\n"
   ]
  },
  {
   "cell_type": "markdown",
   "metadata": {},
   "source": [
    "Elements in the domain $(\\theta_1, \\theta_2)$ which satisfy this simulteneous system will define a boundary $[\\theta_{11}, \\theta_{12}]$ on which contact is plausable with the cue ball.\n",
    "$$ f_1(\\theta_1,\\theta_2) = \\sum_{i = 1}^{2} \\bigg( \\sum_{i = 1}^{2} (-1)^{i-1}(g_i + c_i) \\bigg) \\cdot c_i = 0 $$\n",
    "$$ f_2(\\theta_1,\\theta_2) = c_1 \\cdot \\frac{\\partial c_2}{\\partial \\theta_2} = 0$$"
   ]
  },
  {
   "cell_type": "markdown",
   "metadata": {},
   "source": [
    "With respect to the target ball and our pocket, the following relation must hold to define the boundary of 'desired' outcomes of our experiment."
   ]
  },
  {
   "cell_type": "code",
   "execution_count": null,
   "metadata": {},
   "outputs": [],
   "source": []
  }
 ],
 "metadata": {
  "kernelspec": {
   "display_name": "Python 3",
   "language": "python",
   "name": "python3"
  },
  "language_info": {
   "codemirror_mode": {
    "name": "ipython",
    "version": 3
   },
   "file_extension": ".py",
   "mimetype": "text/x-python",
   "name": "python",
   "nbconvert_exporter": "python",
   "pygments_lexer": "ipython3",
   "version": "3.6.5"
  },
  "widgets": {
   "application/vnd.jupyter.widget-state+json": {
    "state": {
     "1ebc49e2f3a84519aad882dd5d5709e0": {
      "model_module": "@jupyter-widgets/base",
      "model_module_version": "1.0.0",
      "model_name": "LayoutModel",
      "state": {}
     },
     "22dfecb353614346965963e5a368a04e": {
      "model_module": "@jupyter-widgets/base",
      "model_module_version": "1.0.0",
      "model_name": "LayoutModel",
      "state": {}
     },
     "2c0187d1073847c48839bca142be22ea": {
      "model_module": "@jupyter-widgets/controls",
      "model_module_version": "1.2.0",
      "model_name": "SliderStyleModel",
      "state": {
       "description_width": ""
      }
     },
     "3cb71bef5810499599f1527c44a3f19e": {
      "model_module": "@jupyter-widgets/base",
      "model_module_version": "1.0.0",
      "model_name": "LayoutModel",
      "state": {}
     },
     "6a14686ebe1f4d6f8611b11087fea252": {
      "model_module": "@jupyter-widgets/base",
      "model_module_version": "1.0.0",
      "model_name": "LayoutModel",
      "state": {}
     },
     "8c60bb8d9f5747bc8834fa779beef6e5": {
      "model_module": "@jupyter-widgets/controls",
      "model_module_version": "1.2.0",
      "model_name": "VBoxModel",
      "state": {
       "_dom_classes": [
        "widget-interact"
       ],
       "children": [
        "IPY_MODEL_c149556614a34cd399994353cb07f393",
        "IPY_MODEL_cb6caafcdec048148d0ad9f137c5619d",
        "IPY_MODEL_bb1c906bb7924f19a35e71baf2f6b8df",
        "IPY_MODEL_95fe85facc7c4106a45c2e8aba31653d",
        "IPY_MODEL_f836b36817b24b41bbd37a060dda6058"
       ],
       "layout": "IPY_MODEL_a36a5c93230e470ba93514081744fa59"
      }
     },
     "90d216d7dcd546999dd927d4a89e16d9": {
      "model_module": "@jupyter-widgets/controls",
      "model_module_version": "1.2.0",
      "model_name": "SliderStyleModel",
      "state": {
       "description_width": ""
      }
     },
     "95fe85facc7c4106a45c2e8aba31653d": {
      "model_module": "@jupyter-widgets/controls",
      "model_module_version": "1.2.0",
      "model_name": "FloatSliderModel",
      "state": {
       "description": "theta_2",
       "layout": "IPY_MODEL_6a14686ebe1f4d6f8611b11087fea252",
       "max": 3.141592653589793,
       "min": -3.141592653589793,
       "step": 0.01,
       "style": "IPY_MODEL_2c0187d1073847c48839bca142be22ea",
       "value": 1.62841
      }
     },
     "a36a5c93230e470ba93514081744fa59": {
      "model_module": "@jupyter-widgets/base",
      "model_module_version": "1.0.0",
      "model_name": "LayoutModel",
      "state": {}
     },
     "adbb9841eadf44619b25ad3362c51aac": {
      "model_module": "@jupyter-widgets/controls",
      "model_module_version": "1.2.0",
      "model_name": "SliderStyleModel",
      "state": {
       "description_width": ""
      }
     },
     "bb1c906bb7924f19a35e71baf2f6b8df": {
      "model_module": "@jupyter-widgets/controls",
      "model_module_version": "1.2.0",
      "model_name": "FloatSliderModel",
      "state": {
       "description": "theta_1",
       "layout": "IPY_MODEL_3cb71bef5810499599f1527c44a3f19e",
       "max": 3.141592653589793,
       "min": -3.141592653589793,
       "step": 0.01,
       "style": "IPY_MODEL_adbb9841eadf44619b25ad3362c51aac",
       "value": 1.77841
      }
     },
     "c149556614a34cd399994353cb07f393": {
      "model_module": "@jupyter-widgets/controls",
      "model_module_version": "1.2.0",
      "model_name": "FloatSliderModel",
      "state": {
       "description": "target_x",
       "layout": "IPY_MODEL_1ebc49e2f3a84519aad882dd5d5709e0",
       "max": 2,
       "min": 0.1,
       "step": 0.01,
       "style": "IPY_MODEL_90d216d7dcd546999dd927d4a89e16d9",
       "value": 1.36
      }
     },
     "c6e7dbf103b44e4d90fcb3b4128303ea": {
      "model_module": "@jupyter-widgets/base",
      "model_module_version": "1.0.0",
      "model_name": "LayoutModel",
      "state": {}
     },
     "cb6caafcdec048148d0ad9f137c5619d": {
      "model_module": "@jupyter-widgets/controls",
      "model_module_version": "1.2.0",
      "model_name": "FloatSliderModel",
      "state": {
       "description": "target_y",
       "layout": "IPY_MODEL_c6e7dbf103b44e4d90fcb3b4128303ea",
       "max": 2,
       "min": 0.1,
       "step": 0.01,
       "style": "IPY_MODEL_fa39e19dc94a4ff39ada9c0f21d29a64",
       "value": 0.78
      }
     },
     "f836b36817b24b41bbd37a060dda6058": {
      "model_module": "@jupyter-widgets/output",
      "model_module_version": "1.0.0",
      "model_name": "OutputModel",
      "state": {
       "layout": "IPY_MODEL_22dfecb353614346965963e5a368a04e",
       "outputs": [
        {
         "data": {
          "image/png": "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\n",
          "text/plain": "<Figure size 900x900 with 1 Axes>"
         },
         "metadata": {},
         "output_type": "display_data"
        }
       ]
      }
     },
     "fa39e19dc94a4ff39ada9c0f21d29a64": {
      "model_module": "@jupyter-widgets/controls",
      "model_module_version": "1.2.0",
      "model_name": "SliderStyleModel",
      "state": {
       "description_width": ""
      }
     }
    },
    "version_major": 2,
    "version_minor": 0
   }
  }
 },
 "nbformat": 4,
 "nbformat_minor": 2
}
