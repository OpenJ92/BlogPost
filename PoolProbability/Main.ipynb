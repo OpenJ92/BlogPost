{
 "cells": [
  {
   "cell_type": "markdown",
   "metadata": {},
   "source": [
    "### Calculating the probability of making a Pool Shot\n",
    "\n",
    "We will first construct the abstractions for our pool balls, pockets and table as python classes."
   ]
  },
  {
   "cell_type": "markdown",
   "metadata": {},
   "source": [
    "Axioms:\n",
    "1. The direction of travel of the target ball will be negation of the local position vector\n",
    "2. Another\n",
    "\n",
    "Let us now construct the mathematical basis for this construction. The calculation of this will fall under the umbrella of conditional probability. In a very general sense the statement of our probability will be\n",
    "\n",
    "$$ P(s|t_i, c, p_j) $$\n",
    "\n",
    "Where $t_i$ is our target ball, $c$ is our cueball and $p_j$ is our pocket. More succinctly, we might consider a matrix of probabilities $ \\Theta $ where\n",
    "\n",
    "$$\\Theta_{ij} = \\begin{bmatrix}\n",
    "    P(s|t_1, c, p_1)       & P(s|t_1, c, p_2) & P(s|t_1, c, p_3) & \\dots & P(s|t_1, c, p_n) \\\\\n",
    "    P(s|t_2, c, p_1)       & P(s|t_2, c, p_2) & P(s|t_2, c, p_3) & \\dots & P(s|t_2, c, p_n) \\\\\n",
    "    \\vdots & \\vdots & \\vdots & & \\vdots\\\\\n",
    "    P(s|t_m, c, p_1)       & P(s|t_m, c, p_2) & P(s|t_m, c, p_3) & \\dots & P(s|t_m, c, p_n)\n",
    "\\end{bmatrix}$$\n",
    "\n",
    "$$ \\Theta_{ij} = P(s|t_i, c, p_j) $$\n",
    "\n",
    "the row space of afformentioned matrix would be the measures of each target ball, $t_i$ , to a single pocket $p_n$ and the column space be the measures of each pocket, $p_j$, to a single target ball $t_n$. With our abstraction of the problem constructed, let us discuss the construction of the sample space and the 'desired' space of events."
   ]
  },
  {
   "cell_type": "markdown",
   "metadata": {},
   "source": [
    "Our first goal will be to specify a sample space, $S_{ijk}$, according to the position of the target ball, $i$, the position of the cue ball, $k$, and the position of the pocket, all with assumed radii. The union of each of these spaces will compose the total sample space for the problem.\n",
    "\n",
    "$$ S = \\bigcup_{i}\\bigcup_{j}\\bigcup_{k} S_{i,j,k} $$"
   ]
  },
  {
   "cell_type": "markdown",
   "metadata": {},
   "source": [
    "events in this space will be tuples of local angle measures bounding the region of the target ball which can be struck by the cue ball in a particular $(cue, target)$ state. The 'desired space will again consist of tuples of bounding local angle measures which when struck, and abiding by axiom 1, will be sure to sink. The intercestion of these domains will define a new bounded region and will reasonably capture the numerator of our Probability measure and \n",
    "\n",
    "I really need to think about how to state such things. I feel like I'm all over the place with this. Try again later."
   ]
  },
  {
   "cell_type": "code",
   "execution_count": 1,
   "metadata": {},
   "outputs": [],
   "source": [
    "import numpy as np\n",
    "import matplotlib as mpl\n",
    "import matplotlib.pyplot as plt"
   ]
  },
  {
   "cell_type": "code",
   "execution_count": 2,
   "metadata": {},
   "outputs": [],
   "source": [
    "%matplotlib inline"
   ]
  },
  {
   "cell_type": "code",
   "execution_count": 3,
   "metadata": {},
   "outputs": [],
   "source": [
    "%matplotlib inline\n",
    "plt.rcParams['figure.figsize'] = (7,4)\n",
    "plt.rcParams['figure.dpi'] = 150"
   ]
  },
  {
   "cell_type": "code",
   "execution_count": 4,
   "metadata": {},
   "outputs": [],
   "source": [
    "from ipywidgets import interact, interactive, fixed, interact_manual\n",
    "import ipywidgets as widgets"
   ]
  },
  {
   "cell_type": "code",
   "execution_count": 5,
   "metadata": {},
   "outputs": [],
   "source": [
    "target_global = (1 + np.random.random_sample(), 1 + np.random.random_sample())\n",
    "cue_global = (1 + np.random.random_sample(), 1 + np.random.random_sample())\n",
    "pocket_global = (1 + np.random.random_sample(), 1 + np.random.random_sample())\n",
    "\n",
    "target_radius = .1\n",
    "cue_radius = .11\n",
    "pocket_radius = .15\n",
    "\n",
    "target = [target_global, target_radius]\n",
    "cue = [cue_global, cue_radius]\n",
    "pocket = [pocket_global, pocket_radius]"
   ]
  },
  {
   "cell_type": "code",
   "execution_count": 6,
   "metadata": {},
   "outputs": [
    {
     "data": {
      "application/vnd.jupyter.widget-view+json": {
       "model_id": "cf2d717dc575425596a8865c380d6897",
       "version_major": 2,
       "version_minor": 0
      },
      "text/plain": [
       "interactive(children=(FloatSlider(value=0.1, description='radius_1', max=0.2, step=0.01), FloatSlider(value=0.…"
      ]
     },
     "metadata": {},
     "output_type": "display_data"
    },
    {
     "data": {
      "text/plain": [
       "<function __main__.f(radius_1, radius_2, theta_1, theta_2, theta_3, theta_4)>"
      ]
     },
     "execution_count": 6,
     "metadata": {},
     "output_type": "execute_result"
    }
   ],
   "source": [
    "def f(radius_1, radius_2, theta_1, theta_2, theta_3, theta_4):\n",
    "    plt.xlim(-.2, 3)\n",
    "    plt.ylim(-.2, 2)\n",
    "    dot_1 = np.array([target_global[0] + radius_1*np.cos(theta_1), target_global[1] + radius_1*np.sin(theta_1)])\n",
    "    dot_2 = np.array([cue_global[0] + radius_2*np.cos(theta_2), cue_global[1] + radius_2*np.sin(theta_2)])\n",
    "    dot_3 = np.array([target_global[0] + radius_1*np.cos(theta_3), target_global[1] + radius_1*np.sin(theta_3)])\n",
    "    dot_4 = np.array([cue_global[0] + radius_2*np.cos(theta_4), cue_global[1] + radius_2*np.sin(theta_4)])\n",
    "    line = np.array([dot_2 + i*(dot_1 - dot_2) for i in np.linspace(0, 1)])\n",
    "    line_1 = np.array([dot_4 + i*(dot_3 - dot_4) for i in np.linspace(0, 1)])\n",
    "    plt.scatter(x = target_global[0] + radius_1*np.cos(np.linspace(0, 2*np.pi)), \n",
    "                y = target_global[1] + radius_1*np.sin(np.linspace(0, 2*np.pi)))\n",
    "    plt.scatter(x = cue_global[0] + radius_2*np.cos(np.linspace(0, 2*np.pi)), \n",
    "                y = cue_global[1] + radius_2*np.sin(np.linspace(0, 2*np.pi)))\n",
    "    plt.scatter(x = line[:,0], y = line[:,1])\n",
    "    plt.scatter(x = line_1[:,0], y = line_1[:,1])\n",
    "\n",
    "interact(f,radius_1 = (0, .2, .01), \n",
    "         radius_2 = (0, .2, .01), \n",
    "         theta_1 = (-2*np.pi, 2*np.pi, .1), \n",
    "         theta_2 = (-2*np.pi, 2*np.pi, .1), \n",
    "         theta_3 = (-2*np.pi, 2*np.pi, .1),\n",
    "         theta_4 = (-2*np.pi, 2*np.pi, .1))  "
   ]
  },
  {
   "cell_type": "markdown",
   "metadata": {},
   "source": [
    "Elements in the domain $(\\theta_1, \\theta_2)$ which satisfy this simulteneous system will define a boundary $[\\theta_{11}, \\theta_{12}]$ on which contact is plausable with the cue ball.\n",
    "$$ f_1(\\theta_1,\\theta_2) = \\sum_{i = 1}^{2} \\bigg( \\sum_{i = 1}^{2} (-1)^{i-1}(g_i + c_i) \\bigg) \\cdot c_i = 0 $$\n",
    "$$ f_2(\\theta_1,\\theta_2) = c_1 \\cdot \\frac{\\partial c_2}{\\partial \\theta_2} = 0$$"
   ]
  },
  {
   "cell_type": "markdown",
   "metadata": {},
   "source": [
    "With respect to the target ball and our pocket, the following relation must hold to define the boundary of 'desired' outcomes of our experiment."
   ]
  }
 ],
 "metadata": {
  "kernelspec": {
   "display_name": "Python 3",
   "language": "python",
   "name": "python3"
  },
  "language_info": {
   "codemirror_mode": {
    "name": "ipython",
    "version": 3
   },
   "file_extension": ".py",
   "mimetype": "text/x-python",
   "name": "python",
   "nbconvert_exporter": "python",
   "pygments_lexer": "ipython3",
   "version": "3.6.5"
  }
 },
 "nbformat": 4,
 "nbformat_minor": 2
}
