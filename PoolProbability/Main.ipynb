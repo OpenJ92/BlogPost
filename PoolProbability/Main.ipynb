{
 "cells": [
  {
   "cell_type": "markdown",
   "metadata": {},
   "source": [
    "### Calculating the probability of making a Pool Shot\n",
    "\n",
    "We will first construct the abstractions for our pool balls, pockets and table as python classes."
   ]
  },
  {
   "cell_type": "markdown",
   "metadata": {},
   "source": [
    "Axioms:\n",
    "1. The direction of travel of the target ball will be negation of the local position vector\n",
    "2. Another\n",
    "\n",
    "Let us now construct the mathematical basis for this construction. The calculation of this will fall under the umbrella of conditional probability. In a very general sense the statement of our probability will be\n",
    "\n",
    "$$ P(s|t_i, c, p_j) $$\n",
    "\n",
    "Where $t_i$ is our target ball, $c$ is our cueball and $p_j$ is our pocket. More succinctly, we might consider a matrix of probabilities $ \\Theta $ where\n",
    "\n",
    "$$\\Theta_{ij} = \\begin{bmatrix}\n",
    "    P(s|t_1, c, p_1)       & P(s|t_1, c, p_2) & P(s|t_1, c, p_3) & \\dots & P(s|t_1, c, p_n) \\\\\n",
    "    P(s|t_2, c, p_1)       & P(s|t_2, c, p_2) & P(s|t_2, c, p_3) & \\dots & P(s|t_2, c, p_n) \\\\\n",
    "    \\vdots & \\vdots & \\vdots & & \\vdots\\\\\n",
    "    P(s|t_m, c, p_1)       & P(s|t_m, c, p_2) & P(s|t_m, c, p_3) & \\dots & P(s|t_m, c, p_n)\n",
    "\\end{bmatrix}$$\n",
    "\n",
    "$$ \\Theta_{ij} = P(s|t_i, c, p_j) $$\n",
    "\n",
    "the row space of afformentioned matrix would be the measures of each target ball, $t_i$ , to a single pocket $p_n$ and the column space be the measures of each pocket, $p_j$, to a single target ball $t_n$. With our abstraction of the problem constructed, let us discuss the construction of the sample space and the 'desired' space of events."
   ]
  },
  {
   "cell_type": "markdown",
   "metadata": {},
   "source": [
    "Our first goal will be to specify a sample space, $S_{ijk}$, according to the position of the target ball, $i$, the position of the cue ball, $k$, and the position of the pocket, all with assumed radii. The union of each of these spaces will compose the total sample space for the problem.\n",
    "\n",
    "$$ S = \\bigcup_{i}\\bigcup_{j}\\bigcup_{k} S_{i,j,k} $$"
   ]
  },
  {
   "cell_type": "markdown",
   "metadata": {},
   "source": [
    "events in this space will be tuples of local angle measures bounding the region of the target ball which can be struck by the cue ball in a particular $(cue, target)$ state. The 'desired space will again consist of tuples of bounding local angle measures which when struck, and abiding by axiom 1, will be sure to sink. The intercestion of these domains will define a new bounded region and will reasonably capture the numerator of our Probability measure and \n",
    "\n",
    "I really need to think about how to state such things. I feel like I'm all over the place with this. Try again later."
   ]
  },
  {
   "cell_type": "code",
   "execution_count": 1,
   "metadata": {},
   "outputs": [],
   "source": [
    "import numpy as np\n",
    "import matplotlib as mpl\n",
    "import matplotlib.pyplot as plt\n",
    "import math"
   ]
  },
  {
   "cell_type": "code",
   "execution_count": 2,
   "metadata": {},
   "outputs": [],
   "source": [
    "%matplotlib inline"
   ]
  },
  {
   "cell_type": "code",
   "execution_count": 43,
   "metadata": {},
   "outputs": [],
   "source": [
    "%matplotlib inline\n",
    "plt.rcParams['figure.figsize'] = (6,6)\n",
    "plt.rcParams['figure.dpi'] = 150"
   ]
  },
  {
   "cell_type": "code",
   "execution_count": 44,
   "metadata": {},
   "outputs": [],
   "source": [
    "from ipywidgets import interact, interactive, fixed, interact_manual\n",
    "import ipywidgets as widgets"
   ]
  },
  {
   "cell_type": "code",
   "execution_count": 66,
   "metadata": {},
   "outputs": [],
   "source": [
    "target_global = np.array([1 + np.random.random_sample(), 1 + np.random.random_sample()])\n",
    "cue_global = np.array([1.75, 1.75])\n",
    "pocket_global = np.array([.25, .25])\n",
    "\n",
    "target_radius = .1\n",
    "cue_radius = .125\n",
    "pocket_radius = .175\n",
    "\n",
    "target = [target_global, target_radius]\n",
    "cue = [cue_global, cue_radius]\n",
    "pocket = [pocket_global, pocket_radius]"
   ]
  },
  {
   "cell_type": "code",
   "execution_count": 81,
   "metadata": {},
   "outputs": [
    {
     "data": {
      "application/vnd.jupyter.widget-view+json": {
       "model_id": "3e4c3996d81f47019bfed06da6023b30",
       "version_major": 2,
       "version_minor": 0
      },
      "text/plain": [
       "interactive(children=(FloatSlider(value=1.05, description='target_x', max=2.0, min=0.1, step=0.01), FloatSlide…"
      ]
     },
     "metadata": {},
     "output_type": "display_data"
    },
    {
     "data": {
      "text/plain": [
       "<function __main__.a(target_x, target_y, theta_1, theta_2)>"
      ]
     },
     "execution_count": 81,
     "metadata": {},
     "output_type": "execute_result"
    }
   ],
   "source": [
    "def a(target_x, target_y, theta_1, theta_2):\n",
    "    plt.xlim(0,2.1)\n",
    "    plt.ylim(0,2.1)\n",
    "    s = .15\n",
    "    \n",
    "    target_global = np.array([target_x, target_y])\n",
    "    \n",
    "    argument = math.acos(((target_global - cue_global)/np.linalg.norm(target_global - cue_global))@ np.array([1,0]))\n",
    "    argument = -1 * argument if (target_global - cue_global) @ np.array([0,1]) < 0 else argument\n",
    "    \n",
    "    argument_2 = math.acos(((target_global - pocket_global)/np.linalg.norm(target_global - pocket_global))@ np.array([1,0]))\n",
    "    argument_2 = -1 * argument_2 if (target_global - pocket_global) @ np.array([0,1]) < 0 else argument_2\n",
    "    \n",
    "    plt.scatter(x = target_global[0] + target_radius*np.cos(np.linspace(0, 2*np.pi)), \n",
    "                y = target_global[1] + target_radius*np.sin(np.linspace(0, 2*np.pi)),\n",
    "               color = 'blue', \n",
    "               s = s)\n",
    "    plt.scatter(x = cue_global[0] + cue_radius*np.cos(np.linspace(0, 2*np.pi)), \n",
    "                y = cue_global[1] + cue_radius*np.sin(np.linspace(0, 2*np.pi)),\n",
    "               color = 'red',\n",
    "               s = s)\n",
    "    plt.scatter(x = pocket_global[0] + pocket_radius*np.cos(np.linspace(0, 2*np.pi)), \n",
    "                y = pocket_global[1] + pocket_radius*np.sin(np.linspace(0, 2*np.pi)),\n",
    "               color = 'black',\n",
    "               s = s)\n",
    "    \n",
    "    dot_1 = np.array([target_global[0] + target_radius*np.cos(theta_1 + argument), target_global[1] + target_radius*np.sin(theta_1 + argument)])\n",
    "    dot_2 = np.array([cue_global[0] + cue_radius*np.cos(theta_1 + argument - np.pi), cue_global[1] + cue_radius*np.sin(theta_1 + argument - np.pi)])\n",
    "    line_1 = dot_1 + np.array([(dot_2 - dot_1)*i for i in np.linspace(0,1)])\n",
    "    line_1_1 = target_global - np.array([(target_global - dot_1)*i*(1/np.linalg.norm(target_global - dot_1))*target_radius for i in np.linspace(0,1)])\n",
    "    plt.scatter(line_1[:,0], line_1[:,1], s = s, color = 'red')\n",
    "    plt.scatter(line_1_1[:,0], line_1_1[:,1], s = s, color = 'red')\n",
    "    \n",
    "    dot_3 = np.array([target_global[0] + target_radius*np.cos(-1*(theta_1) + argument), target_global[1] + target_radius*np.sin(-1*(theta_1) + argument)])\n",
    "    dot_4 = np.array([cue_global[0] + cue_radius*np.cos(-1*(theta_1) + argument - np.pi), cue_global[1] + cue_radius*np.sin(-1*(theta_1) + argument - np.pi)])\n",
    "    line_2 = dot_3 + np.array([(dot_4 - dot_3)*i for i in np.linspace(0,1)])\n",
    "    line_2_1 = target_global - np.array([(target_global - dot_3)*i*(1/np.linalg.norm(target_global - dot_3))*target_radius for i in np.linspace(0,1)])\n",
    "    plt.scatter(line_2[:,0], line_2[:,1], s = s, color = 'red')\n",
    "    plt.scatter(line_2_1[:,0], line_2_1[:,1], s = s, color = 'red')\n",
    "    \n",
    "    dot_5 = np.array([pocket_global[0] + pocket_radius*np.cos((theta_2) + argument_2), pocket_global[1] + pocket_radius*np.sin((theta_2) + argument_2)])\n",
    "    dot_6 = np.array([pocket_global[0] + pocket_radius*np.cos(-1*(theta_2) + argument_2), pocket_global[1] + pocket_radius*np.sin(-1*(theta_2) + argument_2)])\n",
    "    \n",
    "    line_3_1 = dot_5 + np.array([(target_global - dot_5)*i for i in np.linspace(0,1)])\n",
    "    line_3_2 = dot_6 + np.array([(target_global - dot_6)*i for i in np.linspace(0,1)])\n",
    "    line_4_1 = target_global + np.array([(target_global - dot_5)*i*(1/np.linalg.norm(target_global - dot_5))*target_radius for i in np.linspace(0,1)])\n",
    "    line_4_2 = target_global + np.array([(target_global - dot_6)*i*(1/np.linalg.norm(target_global - dot_6))*target_radius for i in np.linspace(0,1)])\n",
    "    \n",
    "    plt.scatter(x = line_3_1[:,0], y = line_3_1[:,1], s = s, color = 'black')\n",
    "    plt.scatter(x = line_3_2[:,0], y = line_3_2[:,1], s = s, color = 'black')\n",
    "    plt.scatter(x = line_4_1[:,0], y = line_4_1[:,1], s = s, color = 'black')\n",
    "    plt.scatter(x = line_4_2[:,0], y = line_4_2[:,1], s = s, color = 'black')\n",
    "    \n",
    "    plt.title('$theta_1$: ' + str(round(theta_1, 3))+ ' ' + '$theta_2$: ' + str(round(theta_2, 3)))\n",
    "    \n",
    "interact(a, target_x = (.1, 2, .01), target_y = (.1, 2, .01), theta_1 = (-np.pi, np.pi, .01), theta_2 = (-np.pi, np.pi, .01))\n"
   ]
  },
  {
   "cell_type": "markdown",
   "metadata": {},
   "source": [
    "Elements in the domain $(\\theta_1, \\theta_2)$ which satisfy this simulteneous system will define a boundary $[\\theta_{11}, \\theta_{12}]$ on which contact is plausable with the cue ball.\n",
    "$$ f_1(\\theta_1,\\theta_2) = \\sum_{i = 1}^{2} \\bigg( \\sum_{i = 1}^{2} (-1)^{i-1}(g_i + c_i) \\bigg) \\cdot c_i = 0 $$\n",
    "$$ f_2(\\theta_1,\\theta_2) = c_1 \\cdot \\frac{\\partial c_2}{\\partial \\theta_2} = 0$$"
   ]
  },
  {
   "cell_type": "markdown",
   "metadata": {},
   "source": [
    "With respect to the target ball and our pocket, the following relation must hold to define the boundary of 'desired' outcomes of our experiment."
   ]
  },
  {
   "cell_type": "code",
   "execution_count": null,
   "metadata": {},
   "outputs": [],
   "source": []
  }
 ],
 "metadata": {
  "kernelspec": {
   "display_name": "Python 3",
   "language": "python",
   "name": "python3"
  },
  "language_info": {
   "codemirror_mode": {
    "name": "ipython",
    "version": 3
   },
   "file_extension": ".py",
   "mimetype": "text/x-python",
   "name": "python",
   "nbconvert_exporter": "python",
   "pygments_lexer": "ipython3",
   "version": "3.6.5"
  }
 },
 "nbformat": 4,
 "nbformat_minor": 2
}
